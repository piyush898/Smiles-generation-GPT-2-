{
 "cells": [
  {
   "cell_type": "code",
   "execution_count": 7,
   "metadata": {},
   "outputs": [
    {
     "ename": "KeyboardInterrupt",
     "evalue": "",
     "output_type": "error",
     "traceback": [
      "\u001b[0;31m---------------------------------------------------------------------------\u001b[0m",
      "\u001b[0;31mKeyboardInterrupt\u001b[0m                         Traceback (most recent call last)",
      "Cell \u001b[0;32mIn [7], line 51\u001b[0m\n\u001b[1;32m     48\u001b[0m pdb_file_path \u001b[38;5;241m=\u001b[39m \u001b[38;5;124m'\u001b[39m\u001b[38;5;124m/home/piyush22194/RNN/smiles-gpt-master/smiles-gpt-master/notebooks/inhibitor_generated_molecules.txt\u001b[39m\u001b[38;5;124m'\u001b[39m\n\u001b[1;32m     50\u001b[0m \u001b[38;5;66;03m# Find and save SMILES with less than 100% similarity\u001b[39;00m\n\u001b[0;32m---> 51\u001b[0m \u001b[43msave_smiles_with_non_100_similarity\u001b[49m\u001b[43m(\u001b[49m\u001b[43mmolecule_file_path\u001b[49m\u001b[43m,\u001b[49m\u001b[43m \u001b[49m\u001b[43mpdb_file_path\u001b[49m\u001b[43m)\u001b[49m\n",
      "Cell \u001b[0;32mIn [7], line 36\u001b[0m, in \u001b[0;36msave_smiles_with_non_100_similarity\u001b[0;34m(molecule_file, pdb_file)\u001b[0m\n\u001b[1;32m     33\u001b[0m \u001b[38;5;66;03m# Iterate through each SMILES from pdb.txt and check Tanimoto similarity with all SMILES from generated_molecules.txt\u001b[39;00m\n\u001b[1;32m     34\u001b[0m \u001b[38;5;28;01mfor\u001b[39;00m pdb_smile \u001b[38;5;129;01min\u001b[39;00m pdb_smiles:\n\u001b[1;32m     35\u001b[0m     \u001b[38;5;66;03m# Check if all similarities are less than 1.0\u001b[39;00m\n\u001b[0;32m---> 36\u001b[0m     \u001b[38;5;28;01mif\u001b[39;00m \u001b[38;5;28;43mall\u001b[39;49m\u001b[43m(\u001b[49m\u001b[43mcalculate_tanimoto_similarity_gpu\u001b[49m\u001b[43m(\u001b[49m\u001b[43mpdb_smile\u001b[49m\u001b[43m,\u001b[49m\u001b[43m \u001b[49m\u001b[43mmolecule_smile\u001b[49m\u001b[43m)\u001b[49m\u001b[43m \u001b[49m\u001b[38;5;241;43m<\u001b[39;49m\u001b[43m \u001b[49m\u001b[38;5;241;43m1.0\u001b[39;49m\u001b[43m \u001b[49m\u001b[38;5;28;43;01mfor\u001b[39;49;00m\u001b[43m \u001b[49m\u001b[43mmolecule_smile\u001b[49m\u001b[43m \u001b[49m\u001b[38;5;129;43;01min\u001b[39;49;00m\u001b[43m \u001b[49m\u001b[43mmolecule_smiles\u001b[49m\u001b[43m)\u001b[49m:\n\u001b[1;32m     37\u001b[0m         \u001b[38;5;28mprint\u001b[39m(\u001b[38;5;124mf\u001b[39m\u001b[38;5;124m\"\u001b[39m\u001b[38;5;124mNo 100% Tanimoto similarity found for SMILES: \u001b[39m\u001b[38;5;132;01m{\u001b[39;00mpdb_smile\u001b[38;5;132;01m}\u001b[39;00m\u001b[38;5;124m\"\u001b[39m)\n\u001b[1;32m     38\u001b[0m         non_100_similarity_smiles\u001b[38;5;241m.\u001b[39mappend(pdb_smile)\n",
      "Cell \u001b[0;32mIn [7], line 36\u001b[0m, in \u001b[0;36m<genexpr>\u001b[0;34m(.0)\u001b[0m\n\u001b[1;32m     33\u001b[0m \u001b[38;5;66;03m# Iterate through each SMILES from pdb.txt and check Tanimoto similarity with all SMILES from generated_molecules.txt\u001b[39;00m\n\u001b[1;32m     34\u001b[0m \u001b[38;5;28;01mfor\u001b[39;00m pdb_smile \u001b[38;5;129;01min\u001b[39;00m pdb_smiles:\n\u001b[1;32m     35\u001b[0m     \u001b[38;5;66;03m# Check if all similarities are less than 1.0\u001b[39;00m\n\u001b[0;32m---> 36\u001b[0m     \u001b[38;5;28;01mif\u001b[39;00m \u001b[38;5;28mall\u001b[39m(\u001b[43mcalculate_tanimoto_similarity_gpu\u001b[49m\u001b[43m(\u001b[49m\u001b[43mpdb_smile\u001b[49m\u001b[43m,\u001b[49m\u001b[43m \u001b[49m\u001b[43mmolecule_smile\u001b[49m\u001b[43m)\u001b[49m \u001b[38;5;241m<\u001b[39m \u001b[38;5;241m1.0\u001b[39m \u001b[38;5;28;01mfor\u001b[39;00m molecule_smile \u001b[38;5;129;01min\u001b[39;00m molecule_smiles):\n\u001b[1;32m     37\u001b[0m         \u001b[38;5;28mprint\u001b[39m(\u001b[38;5;124mf\u001b[39m\u001b[38;5;124m\"\u001b[39m\u001b[38;5;124mNo 100% Tanimoto similarity found for SMILES: \u001b[39m\u001b[38;5;132;01m{\u001b[39;00mpdb_smile\u001b[38;5;132;01m}\u001b[39;00m\u001b[38;5;124m\"\u001b[39m)\n\u001b[1;32m     38\u001b[0m         non_100_similarity_smiles\u001b[38;5;241m.\u001b[39mappend(pdb_smile)\n",
      "Cell \u001b[0;32mIn [7], line 12\u001b[0m, in \u001b[0;36mcalculate_tanimoto_similarity_gpu\u001b[0;34m(smiles1, smiles2)\u001b[0m\n\u001b[1;32m      9\u001b[0m \u001b[38;5;28;01mif\u001b[39;00m mol1 \u001b[38;5;129;01mis\u001b[39;00m \u001b[38;5;129;01mnot\u001b[39;00m \u001b[38;5;28;01mNone\u001b[39;00m \u001b[38;5;129;01mand\u001b[39;00m mol2 \u001b[38;5;129;01mis\u001b[39;00m \u001b[38;5;129;01mnot\u001b[39;00m \u001b[38;5;28;01mNone\u001b[39;00m:\n\u001b[1;32m     10\u001b[0m     \u001b[38;5;66;03m# TODO: Consider using RDKit-GPU for GPU-accelerated fingerprint calculations\u001b[39;00m\n\u001b[1;32m     11\u001b[0m     fp1 \u001b[38;5;241m=\u001b[39m AllChem\u001b[38;5;241m.\u001b[39mGetMorganFingerprintAsBitVect(mol1, \u001b[38;5;241m2\u001b[39m, nBits\u001b[38;5;241m=\u001b[39m\u001b[38;5;241m1024\u001b[39m)\n\u001b[0;32m---> 12\u001b[0m     fp2 \u001b[38;5;241m=\u001b[39m \u001b[43mAllChem\u001b[49m\u001b[38;5;241;43m.\u001b[39;49m\u001b[43mGetMorganFingerprintAsBitVect\u001b[49m\u001b[43m(\u001b[49m\u001b[43mmol2\u001b[49m\u001b[43m,\u001b[49m\u001b[43m \u001b[49m\u001b[38;5;241;43m2\u001b[39;49m\u001b[43m,\u001b[49m\u001b[43m \u001b[49m\u001b[43mnBits\u001b[49m\u001b[38;5;241;43m=\u001b[39;49m\u001b[38;5;241;43m1024\u001b[39;49m\u001b[43m)\u001b[49m\n\u001b[1;32m     14\u001b[0m     \u001b[38;5;66;03m# Calculate Tanimoto similarity on CPU\u001b[39;00m\n\u001b[1;32m     15\u001b[0m     similarity \u001b[38;5;241m=\u001b[39m DataStructs\u001b[38;5;241m.\u001b[39mFingerprintSimilarity(fp1, fp2)\n",
      "\u001b[0;31mKeyboardInterrupt\u001b[0m: "
     ]
    }
   ],
   "source": [
    "from rdkit import Chem\n",
    "from rdkit.Chem import AllChem\n",
    "from rdkit import DataStructs\n",
    "\n",
    "def calculate_tanimoto_similarity_gpu(smiles1, smiles2):\n",
    "    mol1 = Chem.MolFromSmiles(smiles1)\n",
    "    mol2 = Chem.MolFromSmiles(smiles2)\n",
    "\n",
    "    if mol1 is not None and mol2 is not None:\n",
    "        # TODO: Consider using RDKit-GPU for GPU-accelerated fingerprint calculations\n",
    "        fp1 = AllChem.GetMorganFingerprintAsBitVect(mol1, 2, nBits=1024)\n",
    "        fp2 = AllChem.GetMorganFingerprintAsBitVect(mol2, 2, nBits=1024)\n",
    "\n",
    "        # Calculate Tanimoto similarity on CPU\n",
    "        similarity = DataStructs.FingerprintSimilarity(fp1, fp2)\n",
    "        return similarity\n",
    "    else:\n",
    "        return 0.0  # Return 0.0 if there's an issue with molecule conversion\n",
    "\n",
    "def save_smiles_with_non_100_similarity(molecule_file, pdb_file):\n",
    "    # Read SMILES from generated_molecules.txt\n",
    "    with open(molecule_file, 'r') as file:\n",
    "        molecule_smiles = [line.strip() for line in file if line.strip()]\n",
    "\n",
    "    # Read and filter valid SMILES from pdb.txt\n",
    "    with open(pdb_file, 'r') as file:\n",
    "        pdb_smiles = [line.strip() for line in file if line.strip()]\n",
    "        pdb_smiles = [smiles for smiles in pdb_smiles if Chem.MolFromSmiles(smiles) is not None]\n",
    "\n",
    "    # List to store SMILES with less than 100% similarity\n",
    "    non_100_similarity_smiles = []\n",
    "\n",
    "    # Iterate through each SMILES from pdb.txt and check Tanimoto similarity with all SMILES from generated_molecules.txt\n",
    "    for pdb_smile in pdb_smiles:\n",
    "        # Check if all similarities are less than 1.0\n",
    "        if all(calculate_tanimoto_similarity_gpu(pdb_smile, molecule_smile) < 1.0 for molecule_smile in molecule_smiles):\n",
    "            print(f\"No 100% Tanimoto similarity found for SMILES: {pdb_smile}\")\n",
    "            non_100_similarity_smiles.append(pdb_smile)\n",
    "\n",
    "    # Save SMILES with less than 100% similarity to a new file named non_100_similarity_inhibitor_smiles.txt\n",
    "    with open('non_100_similarity_inhibitor_smiles.txt', 'w') as output_file:\n",
    "        for smile in non_100_similarity_smiles:\n",
    "            output_file.write(smile + '\\n')\n",
    "\n",
    "if __name__ == \"__main__\":\n",
    "    # Replace 'generated_molecules.txt' and 'pdb.txt' with the actual file paths\n",
    "    molecule_file_path = '/home/piyush22194/RNN/smiles-gpt-master/smiles-gpt-master/notebooks/generated_molecules.txt'\n",
    "    pdb_file_path = '/home/piyush22194/RNN/smiles-gpt-master/smiles-gpt-master/notebooks/inhibitor_generated_molecules.txt'\n",
    "\n",
    "    # Find and save SMILES with less than 100% similarity\n",
    "    save_smiles_with_non_100_similarity(molecule_file_path, pdb_file_path)\n"
   ]
  },
  {
   "cell_type": "code",
   "execution_count": 7,
   "metadata": {},
   "outputs": [],
   "source": [
    "from rdkit import Chem\n",
    "from rdkit.Chem import AllChem\n",
    "import os\n",
    "\n",
    "def convert_smiles_to_pdb(smiles_file):\n",
    "    # Read the SMILES file\n",
    "    with open(smiles_file, 'r') as f:\n",
    "        smiles_list = f.readlines()\n",
    "\n",
    "    # Remove newline characters and leading/trailing whitespaces from each SMILES string\n",
    "    smiles_list = [smiles.strip() for smiles in smiles_list]\n",
    "\n",
    "    # Get the directory of the SMILES file\n",
    "    directory = os.path.dirname(smiles_file)\n",
    "\n",
    "    # Convert each SMILES string to PDB using RDKit\n",
    "    for i, smiles in enumerate(smiles_list):\n",
    "        mol = Chem.MolFromSmiles(smiles)\n",
    "        if mol:\n",
    "            mol = Chem.AddHs(mol)\n",
    "            AllChem.EmbedMolecule(mol)\n",
    "            AllChem.MMFFOptimizeMolecule(mol)\n",
    "            pdb_file = os.path.join(directory, f\"molecule_{i}.pdb\")\n",
    "            Chem.MolToPDBFile(mol, pdb_file)\n",
    "\n",
    "if __name__ == \"__main__\":\n",
    "    smiles_file = \"/home/piyush22194/RNN/smiles-gpt-master/smiles-gpt-master/notebooks/non_100_similarity_smiles.txt\"\n",
    "    convert_smiles_to_pdb(smiles_file)\n"
   ]
  },
  {
   "cell_type": "code",
   "execution_count": 10,
   "metadata": {},
   "outputs": [
    {
     "name": "stdout",
     "output_type": "stream",
     "text": [
      "Failed to generate molecule 7 with SMILES: Cc1cc(Cl)cnc1C(=O)Nc1ccc(F)c([C@]2([C@@H](F)F)C[C@@H]3C[C@H]3C(N)=N2)c1\n",
      "Error message: Bad Conformer Id\n"
     ]
    }
   ],
   "source": [
    "from rdkit import Chem\n",
    "from rdkit.Chem import AllChem\n",
    "import os\n",
    "\n",
    "def convert_smiles_to_pdb(smiles_file):\n",
    "    # Read the SMILES file\n",
    "    with open(smiles_file, 'r') as f:\n",
    "        smiles_list = f.readlines()\n",
    "\n",
    "    # Remove newline characters and leading/trailing whitespaces from each SMILES string\n",
    "    smiles_list = [smiles.strip() for smiles in smiles_list]\n",
    "\n",
    "    # Get the directory of the SMILES file\n",
    "    directory = os.path.dirname(smiles_file)\n",
    "\n",
    "    # Convert each SMILES string to PDB using RDKit\n",
    "    for i, smiles in enumerate(smiles_list):\n",
    "        mol = Chem.MolFromSmiles(smiles)\n",
    "        if mol:\n",
    "            mol = Chem.AddHs(mol)\n",
    "            try:\n",
    "                AllChem.EmbedMolecule(mol)\n",
    "                AllChem.MMFFOptimizeMolecule(mol)\n",
    "                pdb_file = os.path.join(directory, f\"molecule_{i}.pdb\")\n",
    "                Chem.MolToPDBFile(mol, pdb_file)\n",
    "            except Exception as e:\n",
    "                print(f\"Failed to generate molecule {i + 1} with SMILES: {smiles}\")\n",
    "                print(f\"Error message: {str(e)}\")\n",
    "\n",
    "if __name__ == \"__main__\":\n",
    "    smiles_file = \"/home/piyush22194/RNN/smiles-gpt-master/smiles-gpt-master/notebooks/non_100_similarity_inhibitor_smiles.txt\"\n",
    "    convert_smiles_to_pdb(smiles_file)\n"
   ]
  },
  {
   "cell_type": "code",
   "execution_count": null,
   "metadata": {},
   "outputs": [],
   "source": []
  }
 ],
 "metadata": {
  "kernelspec": {
   "display_name": "tf",
   "language": "python",
   "name": "python3"
  },
  "language_info": {
   "codemirror_mode": {
    "name": "ipython",
    "version": 3
   },
   "file_extension": ".py",
   "mimetype": "text/x-python",
   "name": "python",
   "nbconvert_exporter": "python",
   "pygments_lexer": "ipython3",
   "version": "3.9.18"
  }
 },
 "nbformat": 4,
 "nbformat_minor": 2
}
